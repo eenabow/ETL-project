{
 "cells": [
  {
   "cell_type": "code",
   "execution_count": 1,
   "metadata": {},
   "outputs": [],
   "source": [
    "import pandas as pd\n",
    "from sqlalchemy import create_engine"
   ]
  },
  {
   "cell_type": "code",
   "execution_count": 3,
   "metadata": {},
   "outputs": [],
   "source": [
    "# reading in the different table csvs\n",
    "base_policy_table_df = pd.read_csv('../data/Clean/base_policy_table.csv')\n",
    "\n",
    "full_closures_table_df = pd.read_csv('../data/Clean/full_closures_table.csv')\n",
    "\n",
    "no_closures_table_df = pd.read_csv('../data/Clean/no_closures_table.csv')\n",
    "\n",
    "partial_borders_table_df = pd.read_csv('../data/Clean/partial_borders_table.csv')\n",
    "\n",
    "partial_citizenship_table_df = pd.read_csv('../data/Clean/partial_citizenship_table.csv')\n",
    "\n",
    "partial_history_table_df = pd.read_csv('../data/Clean/partial_history_table.csv')\n",
    "\n",
    "partial_visa_table_df = pd.read_csv('../data/Clean/partial_visa_table.csv')\n",
    "\n",
    "travel_restrictions_table_df = pd.read_csv('../data/Clean/travel_restrictions_clean.csv')\n",
    "\n",
    "vaccinations_table_df = pd.read_csv('../data/Clean/vaccinations_cleaned.csv')"
   ]
  },
  {
   "cell_type": "code",
   "execution_count": null,
   "metadata": {},
   "outputs": [],
   "source": [
    "# connecting to sql\n",
    "rds_connection_string = \"postgres:@localhost:5432/Covid_restrictions_db\"\n",
    "engine = create_engine(f'postgresql://{rds_connection_string}')"
   ]
  },
  {
   "cell_type": "code",
   "execution_count": null,
   "metadata": {},
   "outputs": [],
   "source": [
    "# checking for tables\n",
    "engine.table_names()"
   ]
  },
  {
   "cell_type": "code",
   "execution_count": null,
   "metadata": {},
   "outputs": [],
   "source": [
    "# loading csvs into tables\n",
    "base_policy_table_df.to_sql(name='', con=engine, if_exists='append', index=False)\n",
    "full_closures_table_df.to_sql(name='', con=engine, if_exists='append', index=False)\n",
    "no_closures_table_df.to_sql(name='', con=engine, if_exists='append', index=False)\n",
    "partial_borders_table_df.to_sql(name='', con=engine, if_exists='append', index=False)\n",
    "partial_citizenship_table_df.to_sql(name='', con=engine, if_exists='append', index=False)\n",
    "partial_history_table_df.to_sql(name='', con=engine, if_exists='append', index=False)\n",
    "partial_visa_table_df.to_sql(name='', con=engine, if_exists='append', index=False)\n",
    "travel_restrictions_table_df.to_sql(name='', con=engine, if_exists='append', index=False)\n",
    "vaccinations_table_df.to_sql(name='', con=engine, if_exists='append', index=False)"
   ]
  },
  {
   "cell_type": "code",
   "execution_count": null,
   "metadata": {},
   "outputs": [],
   "source": []
  },
  {
   "cell_type": "code",
   "execution_count": null,
   "metadata": {},
   "outputs": [],
   "source": []
  },
  {
   "cell_type": "code",
   "execution_count": null,
   "metadata": {},
   "outputs": [],
   "source": [
    "# confirming data has been entered\n",
    "pd.read_sql_query('select * from customer_name', con=engine).head()"
   ]
  },
  {
   "cell_type": "code",
   "execution_count": null,
   "metadata": {},
   "outputs": [],
   "source": []
  }
 ],
 "metadata": {
  "kernelspec": {
   "display_name": "Python 3",
   "language": "python",
   "name": "python3"
  },
  "language_info": {
   "codemirror_mode": {
    "name": "ipython",
    "version": 3
   },
   "file_extension": ".py",
   "mimetype": "text/x-python",
   "name": "python",
   "nbconvert_exporter": "python",
   "pygments_lexer": "ipython3",
   "version": "3.8.5"
  }
 },
 "nbformat": 4,
 "nbformat_minor": 4
}
