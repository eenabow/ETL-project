{
 "cells": [
  {
   "cell_type": "code",
   "execution_count": 12,
   "metadata": {},
   "outputs": [
    {
     "ename": "ImportError",
     "evalue": "cannot import name 'passcode' from 'secrets' (/Users/sarahdalleyhood/~Applications/lib/python3.8/secrets.py)",
     "output_type": "error",
     "traceback": [
      "\u001b[0;31m---------------------------------------------------------------------------\u001b[0m",
      "\u001b[0;31mImportError\u001b[0m                               Traceback (most recent call last)",
      "\u001b[0;32m<ipython-input-12-bd56fc7f1a8c>\u001b[0m in \u001b[0;36m<module>\u001b[0;34m\u001b[0m\n\u001b[1;32m      1\u001b[0m \u001b[0;32mimport\u001b[0m \u001b[0mpandas\u001b[0m \u001b[0;32mas\u001b[0m \u001b[0mpd\u001b[0m\u001b[0;34m\u001b[0m\u001b[0;34m\u001b[0m\u001b[0m\n\u001b[1;32m      2\u001b[0m \u001b[0;32mfrom\u001b[0m \u001b[0msqlalchemy\u001b[0m \u001b[0;32mimport\u001b[0m \u001b[0mcreate_engine\u001b[0m\u001b[0;34m\u001b[0m\u001b[0;34m\u001b[0m\u001b[0m\n\u001b[0;32m----> 3\u001b[0;31m \u001b[0;32mfrom\u001b[0m \u001b[0msecrets\u001b[0m \u001b[0;32mimport\u001b[0m \u001b[0mpasscode\u001b[0m\u001b[0;34m\u001b[0m\u001b[0;34m\u001b[0m\u001b[0m\n\u001b[0m",
      "\u001b[0;31mImportError\u001b[0m: cannot import name 'passcode' from 'secrets' (/Users/sarahdalleyhood/~Applications/lib/python3.8/secrets.py)"
     ]
    }
   ],
   "source": [
    "import pandas as pd\n",
    "from sqlalchemy import create_engine\n",
    "from secrets import passcode"
   ]
  },
  {
   "cell_type": "code",
   "execution_count": 3,
   "metadata": {},
   "outputs": [],
   "source": [
    "# reading in the different table csvs\n",
    "base_policy_table_df = pd.read_csv('../data/Clean/base_policy_table.csv')\n",
    "\n",
    "full_closures_table_df = pd.read_csv('../data/Clean/full_closures_table.csv')\n",
    "\n",
    "no_closures_table_df = pd.read_csv('../data/Clean/no_closures_table.csv')\n",
    "\n",
    "partial_borders_table_df = pd.read_csv('../data/Clean/partial_borders_table.csv')\n",
    "\n",
    "partial_citizenship_table_df = pd.read_csv('../data/Clean/partial_citizenship_table.csv')\n",
    "\n",
    "partial_history_table_df = pd.read_csv('../data/Clean/partial_history_table.csv')\n",
    "\n",
    "partial_visa_table_df = pd.read_csv('../data/Clean/partial_visa_table.csv')\n",
    "\n",
    "travel_restrictions_table_df = pd.read_csv('../data/Clean/travel_restrictions_clean.csv')\n",
    "\n",
    "vaccinations_table_df = pd.read_csv('../data/Clean/vaccinations_cleaned.csv')"
   ]
  },
  {
   "cell_type": "code",
   "execution_count": null,
   "metadata": {},
   "outputs": [],
   "source": [
    "# connecting to sql\n",
    "rds_connection_string = \"postgres:@localhost:5432/Covid_restrictions_db\"\n",
    "engine = create_engine(f'postgresql://{rds_connection_string}')"
   ]
  },
  {
   "cell_type": "code",
   "execution_count": null,
   "metadata": {},
   "outputs": [],
   "source": [
    "# checking for tables\n",
    "engine.table_names()"
   ]
  },
  {
   "cell_type": "code",
   "execution_count": null,
   "metadata": {},
   "outputs": [],
   "source": [
    "# loading csvs into tables\n",
    "base_policy_table_df.to_sql(name='base_policy', con=engine, if_exists='append', index=False)\n",
    "full_closures_table_df.to_sql(name='full_closures', con=engine, if_exists='append', index=False)\n",
    "no_closures_table_df.to_sql(name='no_closures', con=engine, if_exists='append', index=False)\n",
    "partial_borders_table_df.to_sql(name='partial_borders', con=engine, if_exists='append', index=False)\n",
    "partial_citizenship_table_df.to_sql(name='partial_citizenship', con=engine, if_exists='append', index=False)\n",
    "partial_history_table_df.to_sql(name='partial_history', con=engine, if_exists='append', index=False)\n",
    "partial_visa_table_df.to_sql(name='partial_visa', con=engine, if_exists='append', index=False)\n",
    "travel_restrictions_table_df.to_sql(name='travel_restrictions', con=engine, if_exists='append', index=False)\n",
    "vaccinations_table_df.to_sql(name='vaccinations', con=engine, if_exists='append', index=False)"
   ]
  },
  {
   "cell_type": "code",
   "execution_count": null,
   "metadata": {},
   "outputs": [],
   "source": []
  },
  {
   "cell_type": "code",
   "execution_count": null,
   "metadata": {},
   "outputs": [],
   "source": []
  },
  {
   "cell_type": "code",
   "execution_count": null,
   "metadata": {},
   "outputs": [],
   "source": [
    "# confirming data has been entered\n",
    "pd.read_sql_query('select * from customer_name', con=engine).head()"
   ]
  },
  {
   "cell_type": "code",
   "execution_count": null,
   "metadata": {},
   "outputs": [],
   "source": []
  }
 ],
 "metadata": {
  "kernelspec": {
   "display_name": "Python 3",
   "language": "python",
   "name": "python3"
  },
  "language_info": {
   "codemirror_mode": {
    "name": "ipython",
    "version": 3
   },
   "file_extension": ".py",
   "mimetype": "text/x-python",
   "name": "python",
   "nbconvert_exporter": "python",
   "pygments_lexer": "ipython3",
   "version": "3.8.5"
  }
 },
 "nbformat": 4,
 "nbformat_minor": 4
}
