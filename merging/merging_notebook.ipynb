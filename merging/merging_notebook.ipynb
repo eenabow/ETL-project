{
 "cells": [
  {
   "cell_type": "code",
   "execution_count": 1,
   "metadata": {},
   "outputs": [],
   "source": [
    "import pandas as pd\n",
    "from sqlalchemy import create_engine\n",
    "import config"
   ]
  },
  {
   "cell_type": "code",
   "execution_count": 2,
   "metadata": {},
   "outputs": [],
   "source": [
    "password = config.password"
   ]
  },
  {
   "cell_type": "code",
   "execution_count": 3,
   "metadata": {},
   "outputs": [],
   "source": [
    "# reading in the different table csvs\n",
    "country_df = pd.read_csv('../data/Clean/country.csv')\n",
    "\n",
    "full_closures_table_df = pd.read_csv('../data/Clean/full_closures_table.csv')\n",
    "\n",
    "no_closures_table_df = pd.read_csv('../data/Clean/no_closures_table.csv')\n",
    "\n",
    "partial_borders_table_df = pd.read_csv('../data/Clean/partial_borders_table.csv')\n",
    "\n",
    "partial_citizenship_table_df = pd.read_csv('../data/Clean/partial_citizenship_table.csv')\n",
    "\n",
    "partial_history_table_df = pd.read_csv('../data/Clean/partial_history_table.csv')\n",
    "\n",
    "partial_visa_table_df = pd.read_csv('../data/Clean/partial_visa_table.csv')\n",
    "\n",
    "travel_restrictions_table_df = pd.read_csv('../data/Clean/travel_restrictions_clean.csv')\n",
    "\n",
    "vaccinations_table_df = pd.read_csv('../data/Clean/vaccinations_cleaned.csv')"
   ]
  },
  {
   "cell_type": "code",
   "execution_count": 4,
   "metadata": {},
   "outputs": [],
   "source": [
    "# connecting to sql\n",
    "rds_connection_string = f\"postgres:{password}@localhost:5433/Covid_restrictions_db\"\n",
    "engine = create_engine(f'postgresql://{rds_connection_string}')"
   ]
  },
  {
   "cell_type": "code",
   "execution_count": 5,
   "metadata": {},
   "outputs": [
    {
     "data": {
      "text/plain": [
       "['country',\n",
       " 'vaccinations',\n",
       " 'travel_restrictions',\n",
       " 'full_closures',\n",
       " 'no_closures',\n",
       " 'partial_borders',\n",
       " 'partial_visa',\n",
       " 'partial_citizenship',\n",
       " 'partial_history']"
      ]
     },
     "execution_count": 5,
     "metadata": {},
     "output_type": "execute_result"
    }
   ],
   "source": [
    "# checking for tables\n",
    "engine.table_names()"
   ]
  },
  {
   "cell_type": "code",
   "execution_count": 6,
   "metadata": {},
   "outputs": [
    {
     "data": {
      "text/plain": [
       "<sqlalchemy.engine.result.ResultProxy at 0x7f8d14647b50>"
      ]
     },
     "execution_count": 6,
     "metadata": {},
     "output_type": "execute_result"
    }
   ],
   "source": [
    "conn = engine.connect()\n",
    "conn.execute(\n",
    "    \"TRUNCATE country, vaccinations, travel_restrictions, full_closures, no_closures,\" \n",
    "    \"partial_borders, partial_citizenship, partial_history, partial_visa CASCADE;\"\n",
    ")"
   ]
  },
  {
   "cell_type": "code",
   "execution_count": 7,
   "metadata": {},
   "outputs": [],
   "source": [
    "# loading csvs into tables\n",
    "country_df.to_sql(name='country', con=engine, if_exists='append', index=False)"
   ]
  },
  {
   "cell_type": "code",
   "execution_count": 8,
   "metadata": {},
   "outputs": [],
   "source": [
    "# loading csvs into tables\n",
    "full_closures_table_df.to_sql(name='full_closures', con=engine, if_exists='append', index=False)\n",
    "no_closures_table_df.to_sql(name='no_closures', con=engine, if_exists='append', index=False)\n",
    "partial_borders_table_df.to_sql(name='partial_borders', con=engine, if_exists='append', index=False)\n",
    "partial_citizenship_table_df.to_sql(name='partial_citizenship', con=engine, if_exists='append', index=False)\n",
    "partial_history_table_df.to_sql(name='partial_history', con=engine, if_exists='append', index=False)\n",
    "partial_visa_table_df.to_sql(name='partial_visa', con=engine, if_exists='append', index=False)\n",
    "travel_restrictions_table_df.to_sql(name='travel_restrictions', con=engine, if_exists='append', index=False)\n",
    "vaccinations_table_df.to_sql(name='vaccinations', con=engine, if_exists='append', index=False)"
   ]
  },
  {
   "cell_type": "code",
   "execution_count": 9,
   "metadata": {},
   "outputs": [
    {
     "data": {
      "text/html": [
       "<div>\n",
       "<style scoped>\n",
       "    .dataframe tbody tr th:only-of-type {\n",
       "        vertical-align: middle;\n",
       "    }\n",
       "\n",
       "    .dataframe tbody tr th {\n",
       "        vertical-align: top;\n",
       "    }\n",
       "\n",
       "    .dataframe thead th {\n",
       "        text-align: right;\n",
       "    }\n",
       "</style>\n",
       "<table border=\"1\" class=\"dataframe\">\n",
       "  <thead>\n",
       "    <tr style=\"text-align: right;\">\n",
       "      <th></th>\n",
       "      <th>Country</th>\n",
       "      <th>Country_id</th>\n",
       "    </tr>\n",
       "  </thead>\n",
       "  <tbody>\n",
       "    <tr>\n",
       "      <th>0</th>\n",
       "      <td>Afghanistan</td>\n",
       "      <td>AFG</td>\n",
       "    </tr>\n",
       "    <tr>\n",
       "      <th>1</th>\n",
       "      <td>Albania</td>\n",
       "      <td>ALB</td>\n",
       "    </tr>\n",
       "    <tr>\n",
       "      <th>2</th>\n",
       "      <td>Algeria</td>\n",
       "      <td>DZA</td>\n",
       "    </tr>\n",
       "    <tr>\n",
       "      <th>3</th>\n",
       "      <td>American Samoa</td>\n",
       "      <td>ASM</td>\n",
       "    </tr>\n",
       "    <tr>\n",
       "      <th>4</th>\n",
       "      <td>Andorra</td>\n",
       "      <td>AND</td>\n",
       "    </tr>\n",
       "  </tbody>\n",
       "</table>\n",
       "</div>"
      ],
      "text/plain": [
       "          Country Country_id\n",
       "0     Afghanistan        AFG\n",
       "1         Albania        ALB\n",
       "2         Algeria        DZA\n",
       "3  American Samoa        ASM\n",
       "4         Andorra        AND"
      ]
     },
     "execution_count": 9,
     "metadata": {},
     "output_type": "execute_result"
    }
   ],
   "source": [
    "# confirming data has been entered - test1\n",
    "pd.read_sql_query('select * from country', con=engine).head()"
   ]
  },
  {
   "cell_type": "code",
   "execution_count": 10,
   "metadata": {},
   "outputs": [
    {
     "data": {
      "text/html": [
       "<div>\n",
       "<style scoped>\n",
       "    .dataframe tbody tr th:only-of-type {\n",
       "        vertical-align: middle;\n",
       "    }\n",
       "\n",
       "    .dataframe tbody tr th {\n",
       "        vertical-align: top;\n",
       "    }\n",
       "\n",
       "    .dataframe thead th {\n",
       "        text-align: right;\n",
       "    }\n",
       "</style>\n",
       "<table border=\"1\" class=\"dataframe\">\n",
       "  <thead>\n",
       "    <tr style=\"text-align: right;\">\n",
       "      <th></th>\n",
       "      <th>Country</th>\n",
       "      <th>Country_id</th>\n",
       "      <th>vaccination_date</th>\n",
       "      <th>total_vaccinations</th>\n",
       "      <th>avg_daily_vaccinations</th>\n",
       "    </tr>\n",
       "  </thead>\n",
       "  <tbody>\n",
       "    <tr>\n",
       "      <th>0</th>\n",
       "      <td>United Arab Emirates</td>\n",
       "      <td>ARE</td>\n",
       "      <td>2021-01-26</td>\n",
       "      <td>2677680</td>\n",
       "      <td>77424.363636</td>\n",
       "    </tr>\n",
       "    <tr>\n",
       "      <th>1</th>\n",
       "      <td>Argentina</td>\n",
       "      <td>ARG</td>\n",
       "      <td>2021-01-26</td>\n",
       "      <td>305880</td>\n",
       "      <td>10989.206897</td>\n",
       "    </tr>\n",
       "    <tr>\n",
       "      <th>2</th>\n",
       "      <td>Austria</td>\n",
       "      <td>AUT</td>\n",
       "      <td>2021-01-26</td>\n",
       "      <td>185643</td>\n",
       "      <td>7936.636364</td>\n",
       "    </tr>\n",
       "    <tr>\n",
       "      <th>3</th>\n",
       "      <td>Belgium</td>\n",
       "      <td>BEL</td>\n",
       "      <td>2021-01-25</td>\n",
       "      <td>213301</td>\n",
       "      <td>6503.103448</td>\n",
       "    </tr>\n",
       "    <tr>\n",
       "      <th>4</th>\n",
       "      <td>Bulgaria</td>\n",
       "      <td>BGR</td>\n",
       "      <td>2021-01-26</td>\n",
       "      <td>29122</td>\n",
       "      <td>1008.413793</td>\n",
       "    </tr>\n",
       "  </tbody>\n",
       "</table>\n",
       "</div>"
      ],
      "text/plain": [
       "                Country Country_id vaccination_date  total_vaccinations  \\\n",
       "0  United Arab Emirates        ARE       2021-01-26             2677680   \n",
       "1             Argentina        ARG       2021-01-26              305880   \n",
       "2               Austria        AUT       2021-01-26              185643   \n",
       "3               Belgium        BEL       2021-01-25              213301   \n",
       "4              Bulgaria        BGR       2021-01-26               29122   \n",
       "\n",
       "   avg_daily_vaccinations  \n",
       "0            77424.363636  \n",
       "1            10989.206897  \n",
       "2             7936.636364  \n",
       "3             6503.103448  \n",
       "4             1008.413793  "
      ]
     },
     "execution_count": 10,
     "metadata": {},
     "output_type": "execute_result"
    }
   ],
   "source": [
    "# confirming data has been entered - test2\n",
    "pd.read_sql_query('select * from vaccinations', con=engine).head()"
   ]
  }
 ],
 "metadata": {
  "kernelspec": {
   "display_name": "Python 3",
   "language": "python",
   "name": "python3"
  },
  "language_info": {
   "codemirror_mode": {
    "name": "ipython",
    "version": 3
   },
   "file_extension": ".py",
   "mimetype": "text/x-python",
   "name": "python",
   "nbconvert_exporter": "python",
   "pygments_lexer": "ipython3",
   "version": "3.8.5"
  }
 },
 "nbformat": 4,
 "nbformat_minor": 4
}
